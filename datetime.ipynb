{
 "cells": [
  {
   "cell_type": "code",
   "execution_count": 1,
   "id": "6ce7ab2f",
   "metadata": {},
   "outputs": [],
   "source": [
    "import datetime"
   ]
  },
  {
   "cell_type": "code",
   "execution_count": 2,
   "id": "b73248ba",
   "metadata": {},
   "outputs": [],
   "source": [
    "now = datetime.datetime.now()"
   ]
  },
  {
   "cell_type": "code",
   "execution_count": 3,
   "id": "28f91b0a",
   "metadata": {},
   "outputs": [
    {
     "name": "stdout",
     "output_type": "stream",
     "text": [
      "2025-04-14\n"
     ]
    }
   ],
   "source": [
    "print(now.date())"
   ]
  },
  {
   "cell_type": "code",
   "execution_count": 4,
   "id": "a35db46e",
   "metadata": {},
   "outputs": [
    {
     "data": {
      "text/plain": [
       "'April 14, 2025'"
      ]
     },
     "execution_count": 4,
     "metadata": {},
     "output_type": "execute_result"
    }
   ],
   "source": [
    "datetime.date.today().strftime('%B %d, %Y')"
   ]
  },
  {
   "cell_type": "code",
   "execution_count": 22,
   "id": "a308a241",
   "metadata": {},
   "outputs": [],
   "source": [
    "#Solution found here: https://stackoverflow.com/questions/28777219/basic-program-to-convert-integer-to-roman-numerals\n",
    "num_map = [(1000, 'M'), (900, 'CM'), (500, 'D'), (400, 'CD'), (100, 'C'), (90, 'XC'),\n",
    "           (50, 'L'), (40, 'XL'), (10, 'X'), (9, 'IX'), (5, 'V'), (4, 'IV'), (1, 'I')]\n",
    "\n",
    "\n",
    "def num2roman(num):\n",
    "\n",
    "    roman = ''\n",
    "\n",
    "    while num > 0:\n",
    "        for i, r in num_map:\n",
    "            while num >= i:\n",
    "                roman += r\n",
    "                num -= i\n",
    "\n",
    "    return roman"
   ]
  },
  {
   "cell_type": "code",
   "execution_count": 6,
   "id": "45e2e65a",
   "metadata": {},
   "outputs": [
    {
     "data": {
      "text/plain": [
       "'XIV'"
      ]
     },
     "execution_count": 6,
     "metadata": {},
     "output_type": "execute_result"
    }
   ],
   "source": [
    "num2roman(14)"
   ]
  },
  {
   "cell_type": "code",
   "execution_count": 7,
   "id": "95181dc3",
   "metadata": {},
   "outputs": [
    {
     "name": "stdout",
     "output_type": "stream",
     "text": [
      "2025-03-15\n"
     ]
    }
   ],
   "source": [
    "idus_martiae = datetime.date(year=2025, month=3, day=15)\n",
    "print(idus_martiae)"
   ]
  },
  {
   "cell_type": "code",
   "execution_count": 8,
   "id": "4c3181ab",
   "metadata": {},
   "outputs": [
    {
     "name": "stdout",
     "output_type": "stream",
     "text": [
      "22 years\n"
     ]
    }
   ],
   "source": [
    "# Experiment taken from here: https://stackoverflow.com/questions/71537225/convert-a-date-into-an-integer-in-python/71537314\n",
    "import datetime\n",
    "from datetime import date\n",
    "\n",
    "date_entry = input('Enter your birthdate in YYYY/MM/DD format: ')\n",
    "year, month, day = map(int, date_entry.split('/'))\n",
    "date1 = datetime.date(year, month, day)\n",
    "\n",
    "def calculateAge(birthDate):\n",
    "    today = date.today()\n",
    "    age = today.year - birthDate.year - \\\n",
    "        ((today.month, today.day) < (birthDate.month, birthDate.day))\n",
    "\n",
    "    return age\n",
    "\n",
    "# Driver code\n",
    "print(calculateAge(date1), \"years\")\n",
    "\n",
    "if calculateAge(date1) < 18:\n",
    "    print('You are under age')\n",
    "    exit()\n"
   ]
  },
  {
   "cell_type": "code",
   "execution_count": 9,
   "id": "fdd5c145",
   "metadata": {},
   "outputs": [
    {
     "name": "stdout",
     "output_type": "stream",
     "text": [
      "Requirement already satisfied: requests in /home/codespace/.local/lib/python3.12/site-packages (2.32.3)\n",
      "Requirement already satisfied: charset-normalizer<4,>=2 in /home/codespace/.local/lib/python3.12/site-packages (from requests) (3.4.1)\n",
      "Requirement already satisfied: idna<4,>=2.5 in /home/codespace/.local/lib/python3.12/site-packages (from requests) (3.10)\n",
      "Requirement already satisfied: urllib3<3,>=1.21.1 in /home/codespace/.local/lib/python3.12/site-packages (from requests) (2.3.0)\n",
      "Requirement already satisfied: certifi>=2017.4.17 in /home/codespace/.local/lib/python3.12/site-packages (from requests) (2025.1.31)\n",
      "Note: you may need to restart the kernel to use updated packages.\n"
     ]
    }
   ],
   "source": [
    "%pip install requests"
   ]
  },
  {
   "cell_type": "code",
   "execution_count": 9,
   "id": "7205bf69",
   "metadata": {},
   "outputs": [],
   "source": [
    "import os\n",
    "import requests"
   ]
  },
  {
   "cell_type": "code",
   "execution_count": null,
   "id": "bcb2a27b",
   "metadata": {},
   "outputs": [
    {
     "data": {
      "text/plain": [
       "{'results': {'date': '2025-04-14',\n",
       "  'sunrise': '6:32:32 AM',\n",
       "  'sunset': '7:50:18 PM',\n",
       "  'first_light': '4:52:28 AM',\n",
       "  'last_light': '9:30:23 PM',\n",
       "  'dawn': '6:03:39 AM',\n",
       "  'dusk': '8:19:11 PM',\n",
       "  'solar_noon': '1:11:25 PM',\n",
       "  'golden_hour': '7:12:57 PM',\n",
       "  'day_length': '13:17:45',\n",
       "  'timezone': 'Europe/Rome',\n",
       "  'utc_offset': 120},\n",
       " 'status': 'OK'}"
      ]
     },
     "execution_count": 12,
     "metadata": {},
     "output_type": "execute_result"
    }
   ],
   "source": [
    "# Powered by SunriseSunset.io\n",
    "lat = 41.893333\n",
    "lng = 12.482778\n",
    "response = requests.get(f\"https://api.sunrisesunset.io/json?lat={lat}&lng={lng}&date=2025-04-14\")\n",
    "response.json()"
   ]
  },
  {
   "cell_type": "code",
   "execution_count": 109,
   "id": "f9bdbd7b",
   "metadata": {},
   "outputs": [],
   "source": [
    "# Powered by SunriseSunset.io: https://sunrisesunset.io/api/\n",
    "def make_sun_request(lat, lng, datus: str):\n",
    "    url = f\"https://api.sunrisesunset.io/json?lat={lat}&lng={lng}&date={datus}\"\n",
    "    response = requests.get(url)\n",
    "\n",
    "    return response.json()"
   ]
  },
  {
   "cell_type": "code",
   "execution_count": 110,
   "id": "d048c34a",
   "metadata": {},
   "outputs": [
    {
     "data": {
      "text/plain": [
       "{'results': {'date': '2025-04-14',\n",
       "  'sunrise': '6:32:32 AM',\n",
       "  'sunset': '7:50:18 PM',\n",
       "  'first_light': '4:52:28 AM',\n",
       "  'last_light': '9:30:23 PM',\n",
       "  'dawn': '6:03:39 AM',\n",
       "  'dusk': '8:19:11 PM',\n",
       "  'solar_noon': '1:11:25 PM',\n",
       "  'golden_hour': '7:12:57 PM',\n",
       "  'day_length': '13:17:45',\n",
       "  'timezone': 'Europe/Rome',\n",
       "  'utc_offset': 120},\n",
       " 'status': 'OK'}"
      ]
     },
     "execution_count": 110,
     "metadata": {},
     "output_type": "execute_result"
    }
   ],
   "source": [
    "datus = datetime.date.today().strftime('%Y-%m-%d')\n",
    "make_sun_request(lat, lng, datus)"
   ]
  },
  {
   "cell_type": "code",
   "execution_count": 74,
   "id": "a33b70fb",
   "metadata": {},
   "outputs": [],
   "source": [
    "# Powered by the Digital Atlas of the Roman Empire: https://imperium.ahlfeldt.se/\n",
    "def make_place_request(place_id: str):\n",
    "    url = f\"http://imperium.ahlfeldt.se/api/geojson.php?id={place_id}\"\n",
    "    response = requests.get(url)\n",
    "\n",
    "    return response.json()"
   ]
  },
  {
   "cell_type": "code",
   "execution_count": 32,
   "id": "7d844f1d",
   "metadata": {},
   "outputs": [
    {
     "data": {
      "text/plain": [
       "{'type': 'FeatureCollection',\n",
       " 'features': [{'type': 'Feature',\n",
       "   'geometry': {'type': 'Point', 'coordinates': [12.4843457, 41.89262]},\n",
       "   'properties': {'name': 'Roma',\n",
       "    'id': '1438',\n",
       "    'ancient': 'Roma',\n",
       "    'country': 'IT',\n",
       "    'type': 'city',\n",
       "    'numType': '11',\n",
       "    'precision': 20,\n",
       "    'laucode': '058091',\n",
       "    'lau2': 'Comune  Roma',\n",
       "    'nuts3': 'Provinzia  Roma',\n",
       "    'uri': 'imperium.ahlfeldt.se/places/1438',\n",
       "    'Pleiades': 423025,\n",
       "    'geonames': '3169070',\n",
       "    'mindate': -750,\n",
       "    'maxdate': 640,\n",
       "    'tags': 'name:ett=Ruma;brill-s-new-pauly=rome-e1023950;tm=2058;name:en=Rome;name:fr=Rome;name:de=Rom;amphi-theatrum=1372;theatrum=429;whc=91;wikipedia=Ancient_Rome;TPPlace=1203;romaq=429;romaq=430;romaq=431;romaq=432;romaq=433;romaq=434;romaq=435;romaq=436;romaq=437;romaq=438;romaq=439;romaq=817;romaq=903;pecs=roma;wikipedia=Rome;wikidata=Q1747689;wikidata=Q220',\n",
       "    'created': '2013-08-01',\n",
       "    'modified': '2016-07-08'}}]}"
      ]
     },
     "execution_count": 32,
     "metadata": {},
     "output_type": "execute_result"
    }
   ],
   "source": [
    "place_id = 1438\n",
    "make_place_request(place_id)"
   ]
  },
  {
   "cell_type": "code",
   "execution_count": 115,
   "id": "edf40449",
   "metadata": {},
   "outputs": [],
   "source": [
    "# Powered by the Digital Atlas of the Roman Empire: https://imperium.ahlfeldt.se/\n",
    "def make_place_request(place_id: str):\n",
    "    url = f\"http://imperium.ahlfeldt.se/api/geojson.php?id={place_id}\"\n",
    "    r = requests.get(url)\n",
    "\n",
    "    response = r.json()\n",
    "    lat = response['features'][0]['geometry']['coordinates'][0]\n",
    "    lng = response['features'][0]['geometry']['coordinates'][1]\n",
    "    return lat, lng"
   ]
  },
  {
   "cell_type": "code",
   "execution_count": 116,
   "id": "df730d2c",
   "metadata": {},
   "outputs": [
    {
     "data": {
      "text/plain": [
       "(12.4843457, 41.89262)"
      ]
     },
     "execution_count": 116,
     "metadata": {},
     "output_type": "execute_result"
    }
   ],
   "source": [
    "place_id = 1438\n",
    "make_place_request(place_id)"
   ]
  },
  {
   "cell_type": "code",
   "execution_count": 11,
   "id": "f962eac7",
   "metadata": {},
   "outputs": [],
   "source": [
    "import datetime\n",
    "from datetime import date\n",
    "from datetime import time\n",
    "import os\n",
    "import requests\n",
    "\n",
    "# Powered by the Digital Atlas of the Roman Empire: https://imperium.ahlfeldt.se/\n",
    "def make_coord_request(place_id: str):\n",
    "    url = f\"http://imperium.ahlfeldt.se/api/geojson.php?id={place_id}\"\n",
    "    r = requests.get(url)\n",
    "\n",
    "    response = r.json()\n",
    "    lat = response['features'][0]['geometry']['coordinates'][1]\n",
    "    lng = response['features'][0]['geometry']['coordinates'][0]\n",
    "    return [lat, lng]\n",
    "\n",
    "# Powered by SunriseSunset.io: https://sunrisesunset.io/api/\n",
    "def make_sun_request(lat, lng, datus: str):\n",
    "    url = f\"https://api.sunrisesunset.io/json?lat={lat}&lng={lng}&timezone=UTC&date={datus}\"\n",
    "    r = requests.get(url)\n",
    "\n",
    "    response = r.json()\n",
    "    sunrise = response['results']['sunrise']\n",
    "    sunset = response['results']['sunset']\n",
    "    return [sunrise, sunset]\n",
    "\n",
    "def get_sun_from_place_id(place_id):\n",
    "    coords = make_coord_request(place_id)\n",
    "    lat = coords[0]\n",
    "    lng = coords[1]\n",
    "    srss = make_sun_request(lat, lng, datus)\n",
    "    return srss\n",
    "\n",
    "datus = datetime.date.today().strftime('%Y-%m-%d')"
   ]
  },
  {
   "cell_type": "code",
   "execution_count": 12,
   "id": "34c43f4f",
   "metadata": {},
   "outputs": [
    {
     "data": {
      "text/plain": [
       "['5:01:26 AM', '7:00:39 PM']"
      ]
     },
     "execution_count": 12,
     "metadata": {},
     "output_type": "execute_result"
    }
   ],
   "source": [
    "place_id=1888\n",
    "\n",
    "get_sun_from_place_id(place_id)"
   ]
  },
  {
   "cell_type": "code",
   "execution_count": 10,
   "id": "b8787715",
   "metadata": {},
   "outputs": [
    {
     "data": {
      "text/plain": [
       "'2025-04-17'"
      ]
     },
     "execution_count": 10,
     "metadata": {},
     "output_type": "execute_result"
    }
   ],
   "source": [
    "datus"
   ]
  },
  {
   "cell_type": "code",
   "execution_count": 18,
   "id": "72cc1d84",
   "metadata": {},
   "outputs": [
    {
     "name": "stdout",
     "output_type": "stream",
     "text": [
      "2025-04-17 05:01:26\n",
      "2025-04-17 19:00:39\n"
     ]
    }
   ],
   "source": [
    "srss = get_sun_from_place_id(place_id)\n",
    "sunrise = srss[0]\n",
    "sunset = srss[1]\n",
    "risetime = datetime.datetime.strptime(f\"{datus}, {sunrise}\", \"%Y-%m-%d, %I:%M:%S %p\")\n",
    "settime = datetime.datetime.strptime(f\"{datus}, {sunset}\", \"%Y-%m-%d, %I:%M:%S %p\")\n",
    "print(risetime)\n",
    "print(settime)"
   ]
  },
  {
   "cell_type": "code",
   "execution_count": null,
   "id": "c4bcc3b0",
   "metadata": {},
   "outputs": [
    {
     "data": {
      "text/plain": [
       "datetime.timedelta(seconds=4196, microseconds=83333)"
      ]
     },
     "execution_count": 23,
     "metadata": {},
     "output_type": "execute_result"
    }
   ],
   "source": [
    "from datetime import timedelta\n",
    "dies = settime-risetime\n",
    "hora = dies/12\n",
    "hora"
   ]
  },
  {
   "cell_type": "code",
   "execution_count": 26,
   "id": "7ed4e77d",
   "metadata": {},
   "outputs": [
    {
     "name": "stdout",
     "output_type": "stream",
     "text": [
      "2025-04-17 05:01:26\n",
      "2025-04-17 06:11:22.083333\n",
      "2025-04-17 07:21:18.166666\n",
      "2025-04-17 08:31:14.249999\n",
      "2025-04-17 09:41:10.333332\n",
      "2025-04-17 10:51:06.416665\n",
      "2025-04-17 12:01:02.499998\n",
      "2025-04-17 13:10:58.583331\n",
      "2025-04-17 14:20:54.666664\n",
      "2025-04-17 15:30:50.749997\n",
      "2025-04-17 16:40:46.833330\n",
      "2025-04-17 17:50:42.916663\n"
     ]
    },
    {
     "data": {
      "text/plain": [
       "True"
      ]
     },
     "execution_count": 26,
     "metadata": {},
     "output_type": "execute_result"
    }
   ],
   "source": [
    "hora_prima = risetime\n",
    "hora_secunda = hora_prima+hora\n",
    "hora_tertia = hora_prima+hora*2\n",
    "hora_quarta = hora_prima+hora*3\n",
    "hora_quinta = hora_prima+hora*4\n",
    "hora_sexta = hora_prima+hora*5\n",
    "hora_septima = hora_prima+hora*6\n",
    "hora_octava = hora_prima+hora*7\n",
    "hora_nona = hora_prima+hora*8\n",
    "hora_decima = hora_prima+hora*9\n",
    "hora_undecima = hora_prima+hora*10\n",
    "hora_duodecima = hora_prima+hora*11\n",
    "print(hora_prima)\n",
    "print(hora_secunda)\n",
    "print(hora_tertia)\n",
    "print(hora_quarta)\n",
    "print(hora_quinta)\n",
    "print(hora_sexta)\n",
    "print(hora_septima)\n",
    "print(hora_octava)\n",
    "print(hora_nona)\n",
    "print(hora_decima)\n",
    "print(hora_undecima)\n",
    "print(hora_duodecima)\n",
    "hora_duodecima != settime-hora"
   ]
  },
  {
   "cell_type": "code",
   "execution_count": null,
   "id": "6a158c82",
   "metadata": {},
   "outputs": [
    {
     "name": "stdout",
     "output_type": "stream",
     "text": [
      "<class 'datetime.time'>\n"
     ]
    },
    {
     "ename": "TypeError",
     "evalue": "'<=' not supported between instances of 'datetime.datetime' and 'type'",
     "output_type": "error",
     "traceback": [
      "\u001b[31m---------------------------------------------------------------------------\u001b[39m",
      "\u001b[31mTypeError\u001b[39m                                 Traceback (most recent call last)",
      "\u001b[36mCell\u001b[39m\u001b[36m \u001b[39m\u001b[32mIn[40]\u001b[39m\u001b[32m, line 3\u001b[39m\n\u001b[32m      1\u001b[39m timenow = datetime.datetime.now()\n\u001b[32m      2\u001b[39m \u001b[38;5;28mprint\u001b[39m(time)\n\u001b[32m----> \u001b[39m\u001b[32m3\u001b[39m \u001b[38;5;28;01mif\u001b[39;00m \u001b[43mhora_prima\u001b[49m\u001b[43m \u001b[49m\u001b[43m<\u001b[49m\u001b[43m=\u001b[49m\u001b[43m \u001b[49m\u001b[43mtime\u001b[49m\u001b[43m \u001b[49m\u001b[43m<\u001b[49m\u001b[43m \u001b[49m\u001b[43mhora_secunda\u001b[49m:\n\u001b[32m      4\u001b[39m     tempus = \u001b[33m\"\u001b[39m\u001b[33mI\u001b[39m\u001b[38;5;130;01m\\n\u001b[39;00m\u001b[33mprima diei hora\u001b[39m\u001b[33m\"\u001b[39m\n\u001b[32m      5\u001b[39m \u001b[38;5;28;01melif\u001b[39;00m hora_secunda <= time < hora_tertia:\n",
      "\u001b[31mTypeError\u001b[39m: '<=' not supported between instances of 'datetime.datetime' and 'type'"
     ]
    }
   ],
   "source": [
    "time = datetime.datetime.now()\n",
    "print(time)\n",
    "if hora_prima <= time < hora_secunda:\n",
    "    tempus = \"I\\nprima diei hora\"\n",
    "elif hora_secunda <= time < hora_tertia:\n",
    "    tempus = \"II\\nseconda diei hora\"\n",
    "elif hora_tertia <= time < hora_quarta:\n",
    "    tempus = \"III\\ntertia diei hora\"\n",
    "elif hora_quarta <= time < hora_quinta:\n",
    "    tempus = \"IV\\nquarta diei hora\"\n",
    "elif hora_quinta <= time < hora_sexta:\n",
    "    tempus = \"V\\nquinta diei hora\"\n",
    "elif hora_sexta <= time < hora_septima:\n",
    "    tempus = \"VI\\nsexta diei hora\"\n",
    "elif hora_septima <= time < hora_octava:\n",
    "    tempus = \"VII\\nseptima diei hora\"\n",
    "elif hora_octava <= time < hora_nona:\n",
    "    tempus = \"VII\\noctava diei hora\"\n",
    "elif hora_nona <= time < hora_decima:\n",
    "    tempus = \"IX\\nnona diei hora\"\n",
    "elif hora_decima <= time < hora_undecima:\n",
    "    tempus = \"X\\ndecima diei hora\"\n",
    "elif hora_undecima <= time < hora_duodecima:\n",
    "    tempus = \"XI\\nundecima diei hora\"\n",
    "elif hora_duodecima <= time < settime:\n",
    "    tempus = \"XII\\nduodecima diei hora\"\n",
    "\n",
    "print(tempus)"
   ]
  },
  {
   "cell_type": "code",
   "execution_count": 5,
   "id": "d459dfe4",
   "metadata": {},
   "outputs": [],
   "source": [
    "import datetime\n",
    "from datetime import date\n",
    "from datetime import time\n",
    "from datetime import timedelta\n",
    "import os\n",
    "import requests\n",
    "\n",
    "timenow = datetime.datetime.now()\n",
    "today = timenow.date().strftime('%Y-%m-%d')\n",
    "thedate = today\n",
    "\n",
    "# Powered by the Digital Atlas of the Roman Empire: https://imperium.ahlfeldt.se/\n",
    "def make_coord_request(place_id: str):\n",
    "    url = f\"http://imperium.ahlfeldt.se/api/geojson.php?id={place_id}\"\n",
    "    r = requests.get(url)\n",
    "\n",
    "    response = r.json()\n",
    "    lat = response['features'][0]['geometry']['coordinates'][1]\n",
    "    lng = response['features'][0]['geometry']['coordinates'][0]\n",
    "    return [lat, lng]\n",
    "\n",
    "# Powered by SunriseSunset.io: https://sunrisesunset.io/api/\n",
    "def make_sun_request(lat, lng, thedate: str):\n",
    "    url = f\"https://api.sunrisesunset.io/json?lat={lat}&lng={lng}&timezone=UTC&date={thedate}\"\n",
    "    r = requests.get(url)\n",
    "\n",
    "    response = r.json()\n",
    "    sunrise = response['results']['sunrise']\n",
    "    sunset = response['results']['sunset']\n",
    "    return [sunrise, sunset]\n",
    "\n",
    "def get_tempus_from_sun(sunrise, sunset):\n",
    "    risetime = datetime.datetime.strptime(f\"{thedate}, {sunrise}\", \"%Y-%m-%d, %I:%M:%S %p\")\n",
    "    settime = datetime.datetime.strptime(f\"{thedate}, {sunset}\", \"%Y-%m-%d, %I:%M:%S %p\")\n",
    "    dies = settime-risetime\n",
    "    hora = dies/12\n",
    "    hora_prima = risetime\n",
    "    hora_secunda = hora_prima+hora\n",
    "    hora_tertia = hora_prima+hora*2\n",
    "    hora_quarta = hora_prima+hora*3\n",
    "    hora_quinta = hora_prima+hora*4\n",
    "    hora_sexta = hora_prima+hora*5\n",
    "    hora_septima = hora_prima+hora*6\n",
    "    hora_octava = hora_prima+hora*7\n",
    "    hora_nona = hora_prima+hora*8\n",
    "    hora_decima = hora_prima+hora*9\n",
    "    hora_undecima = hora_prima+hora*10\n",
    "    hora_duodecima = hora_prima+hora*11\n",
    "    if hora_prima <= timenow < hora_secunda:\n",
    "        tempus = \"I\\nprima diei hora\"\n",
    "    elif hora_secunda <= timenow < hora_tertia:\n",
    "        tempus = \"II\\nseconda diei hora\"\n",
    "    elif hora_tertia <= timenow < hora_quarta:\n",
    "        tempus = \"III\\ntertia diei hora\"\n",
    "    elif hora_quarta <= timenow < hora_quinta:\n",
    "        tempus = \"IV\\nquarta diei hora\"\n",
    "    elif hora_quinta <= timenow < hora_sexta:\n",
    "        tempus = \"V\\nquinta diei hora\"\n",
    "    elif hora_sexta <= timenow < hora_septima:\n",
    "        tempus = \"VI\\nsexta diei hora\"\n",
    "    elif hora_septima <= timenow < hora_octava:\n",
    "        tempus = \"VII\\nseptima diei hora\"\n",
    "    elif hora_octava <= timenow < hora_nona:\n",
    "        tempus = \"VII\\noctava diei hora\"\n",
    "    elif hora_nona <= timenow < hora_decima:\n",
    "        tempus = \"IX\\nnona diei hora\"\n",
    "    elif hora_decima <= timenow < hora_undecima:\n",
    "        tempus = \"X\\ndecima diei hora\"\n",
    "    elif hora_undecima <= timenow < hora_duodecima:\n",
    "        tempus = \"XI\\nundecima diei hora\"\n",
    "    elif hora_duodecima <= timenow < settime:\n",
    "        tempus = \"XII\\nduodecima diei hora\"\n",
    "    elif settime <= timenow:\n",
    "        tempus = \"nox\"\n",
    "    return tempus\n",
    "\n",
    "def get_tempus_from_coord(lat, lng, thedate):\n",
    "    srss = make_sun_request(lat, lng, thedate)\n",
    "    sunrise = srss[0]\n",
    "    sunset = srss[1]\n",
    "    tempus = get_tempus_from_sun(sunrise, sunset)\n",
    "    return tempus\n",
    "    \n",
    "\n",
    "def get_tempus_from_place_id(place_id):\n",
    "    coords = make_coord_request(place_id)\n",
    "    lat = coords[0]\n",
    "    lng = coords[1]\n",
    "    tempus = get_tempus_from_coord(lat, lng, thedate)\n",
    "    return tempus"
   ]
  },
  {
   "cell_type": "code",
   "execution_count": 41,
   "id": "157e4987",
   "metadata": {},
   "outputs": [
    {
     "ename": "NameError",
     "evalue": "name 'settime' is not defined",
     "output_type": "error",
     "traceback": [
      "\u001b[31m---------------------------------------------------------------------------\u001b[39m",
      "\u001b[31mNameError\u001b[39m                                 Traceback (most recent call last)",
      "\u001b[36mCell\u001b[39m\u001b[36m \u001b[39m\u001b[32mIn[41]\u001b[39m\u001b[32m, line 2\u001b[39m\n\u001b[32m      1\u001b[39m place_id = \u001b[32m1480\u001b[39m\n\u001b[32m----> \u001b[39m\u001b[32m2\u001b[39m clock = \u001b[43mget_tempus_from_place_id\u001b[49m\u001b[43m(\u001b[49m\u001b[43mplace_id\u001b[49m\u001b[43m)\u001b[49m\n\u001b[32m      3\u001b[39m \u001b[38;5;28mprint\u001b[39m(clock)\n",
      "\u001b[36mCell\u001b[39m\u001b[36m \u001b[39m\u001b[32mIn[15]\u001b[39m\u001b[32m, line 235\u001b[39m, in \u001b[36mget_tempus_from_place_id\u001b[39m\u001b[34m(place_id)\u001b[39m\n\u001b[32m    233\u001b[39m lat = coords[\u001b[32m0\u001b[39m]\n\u001b[32m    234\u001b[39m lng = coords[\u001b[32m1\u001b[39m]\n\u001b[32m--> \u001b[39m\u001b[32m235\u001b[39m tempus = \u001b[43mget_tempus_from_coord\u001b[49m\u001b[43m(\u001b[49m\u001b[43mlat\u001b[49m\u001b[43m,\u001b[49m\u001b[43m \u001b[49m\u001b[43mlng\u001b[49m\u001b[43m,\u001b[49m\u001b[43m \u001b[49m\u001b[43mthedate\u001b[49m\u001b[43m)\u001b[49m\n\u001b[32m    236\u001b[39m \u001b[38;5;28;01mreturn\u001b[39;00m tempus\n",
      "\u001b[36mCell\u001b[39m\u001b[36m \u001b[39m\u001b[32mIn[15]\u001b[39m\u001b[32m, line 227\u001b[39m, in \u001b[36mget_tempus_from_coord\u001b[39m\u001b[34m(lat, lng, thedate)\u001b[39m\n\u001b[32m    225\u001b[39m sunset = srss[\u001b[32m2\u001b[39m]\n\u001b[32m    226\u001b[39m nightend = srss[\u001b[32m3\u001b[39m]\n\u001b[32m--> \u001b[39m\u001b[32m227\u001b[39m tempus = \u001b[43mget_tempus_from_sun\u001b[49m\u001b[43m(\u001b[49m\u001b[43mnightstart\u001b[49m\u001b[43m,\u001b[49m\u001b[43m \u001b[49m\u001b[43msunrise\u001b[49m\u001b[43m,\u001b[49m\u001b[43m \u001b[49m\u001b[43msunset\u001b[49m\u001b[43m,\u001b[49m\u001b[43m \u001b[49m\u001b[43mnightend\u001b[49m\u001b[43m,\u001b[49m\u001b[43m \u001b[49m\u001b[43mtimenow\u001b[49m\u001b[43m)\u001b[49m\n\u001b[32m    228\u001b[39m \u001b[38;5;28;01mreturn\u001b[39;00m tempus\n",
      "\u001b[36mCell\u001b[39m\u001b[36m \u001b[39m\u001b[32mIn[15]\u001b[39m\u001b[32m, line 210\u001b[39m, in \u001b[36mget_tempus_from_sun\u001b[39m\u001b[34m(nightstart, sunrise, sunset, nightend, timenow)\u001b[39m\n\u001b[32m    208\u001b[39m \u001b[38;5;66;03m# quid proxima, quid superiore nocte egeris (Cic. Cat. 1.1.1)\u001b[39;00m\n\u001b[32m    209\u001b[39m \u001b[38;5;28;01mif\u001b[39;00m starttime <= timenow < risetime:\n\u001b[32m--> \u001b[39m\u001b[32m210\u001b[39m     nox_proxima = \u001b[43mcalc_nox_proxima\u001b[49m\u001b[43m(\u001b[49m\u001b[43mstarttime\u001b[49m\u001b[43m,\u001b[49m\u001b[43m \u001b[49m\u001b[43mrisetime\u001b[49m\u001b[43m)\u001b[49m\n\u001b[32m    211\u001b[39m     \u001b[38;5;28;01mreturn\u001b[39;00m nox_proxima\n\u001b[32m    212\u001b[39m \u001b[38;5;28;01melif\u001b[39;00m risetime <= timenow < settime:\n",
      "\u001b[36mCell\u001b[39m\u001b[36m \u001b[39m\u001b[32mIn[15]\u001b[39m\u001b[32m, line 139\u001b[39m, in \u001b[36mcalc_nox_proxima\u001b[39m\u001b[34m(startime, risetime)\u001b[39m\n\u001b[32m    137\u001b[39m     \u001b[38;5;28;01melif\u001b[39;00m hora_nona <= timenow < hora_decima:\n\u001b[32m    138\u001b[39m         tempus = watch + \u001b[33m\"\u001b[39m\u001b[33mIX\u001b[39m\u001b[38;5;130;01m\\n\u001b[39;00m\u001b[33mnona noctis hora\u001b[39m\u001b[33m\"\u001b[39m\n\u001b[32m--> \u001b[39m\u001b[32m139\u001b[39m \u001b[38;5;28;01melif\u001b[39;00m hora_decima <= timenow < \u001b[43msettime\u001b[49m:\n\u001b[32m    140\u001b[39m     watch = \u001b[33m\"\u001b[39m\u001b[33mVIGILIA QUARTA\u001b[39m\u001b[38;5;130;01m\\n\u001b[39;00m\u001b[33m\"\u001b[39m\n\u001b[32m    141\u001b[39m     \u001b[38;5;28;01mif\u001b[39;00m hora_decima <= timenow < hora_undecima:\n",
      "\u001b[31mNameError\u001b[39m: name 'settime' is not defined"
     ]
    }
   ],
   "source": [
    "place_id = 1480\n",
    "clock = get_tempus_from_place_id(place_id)\n",
    "print(clock)"
   ]
  },
  {
   "cell_type": "code",
   "execution_count": null,
   "id": "1e11e194",
   "metadata": {},
   "outputs": [],
   "source": [
    "class Month:\n",
    "    \n",
    "    def __init__(self, days, kalends, nones, ides):\n",
    "        self.days = days\n",
    "        self.kalends = kalends\n",
    "        self.nones = nones\n",
    "        self.ides = ides\n",
    "\n",
    "class Cavus_Mensis(Month):\n",
    "    \n",
    "    def __init__(self, days, kalends, nones, ides):\n",
    "        self.days = 31\n",
    "        "
   ]
  },
  {
   "cell_type": "code",
   "execution_count": 8,
   "id": "0022d6b0",
   "metadata": {},
   "outputs": [
    {
     "data": {
      "text/plain": [
       "['9:51:53 AM', '11:35:51 PM']"
      ]
     },
     "execution_count": 8,
     "metadata": {},
     "output_type": "execute_result"
    }
   ],
   "source": [
    "lat = 42.4085\n",
    "lng = -71.1183\n",
    "make_sun_request(lat, lng, thedate)"
   ]
  },
  {
   "cell_type": "code",
   "execution_count": 9,
   "id": "a5409ae2",
   "metadata": {},
   "outputs": [
    {
     "name": "stdout",
     "output_type": "stream",
     "text": [
      "2025-04-23 01:02:41.364870\n"
     ]
    }
   ],
   "source": [
    "print(timenow)"
   ]
  },
  {
   "cell_type": "code",
   "execution_count": 17,
   "id": "d7a6146c",
   "metadata": {},
   "outputs": [],
   "source": [
    "import datetime\n",
    "from datetime import date\n",
    "from datetime import time\n",
    "from datetime import timedelta\n",
    "import os\n",
    "import requests\n",
    "\n",
    "timenow = datetime.datetime.now()\n",
    "today = timenow.date().strftime('%Y-%m-%d')\n",
    "\n",
    "thedate = today\n",
    "daynow = datetime.datetime.strptime(f\"{thedate}, 12:00:00 PM\", \"%Y-%m-%d, %I:%M:%S %p\")\n",
    "\n",
    "daybefore = daynow - datetime.timedelta(days=1)\n",
    "datebefore = daybefore.date().strftime('%Y-%m-%d')\n",
    "\n",
    "dayafter = daynow + datetime.timedelta(days=1)\n",
    "dateafter = dayafter.date().strftime('%Y-%m-%d')\n",
    "\n",
    "# Powered by the Digital Atlas of the Roman Empire: https://imperium.ahlfeldt.se/\n",
    "def make_coord_request(place_id: str):\n",
    "    url = f\"http://imperium.ahlfeldt.se/api/geojson.php?id={place_id}\"\n",
    "    r = requests.get(url)\n",
    "\n",
    "    response = r.json()\n",
    "    lat = response['features'][0]['geometry']['coordinates'][1]\n",
    "    lng = response['features'][0]['geometry']['coordinates'][0]\n",
    "    return [lat, lng]\n",
    "\n",
    "# Powered by SunriseSunset.io: https://sunrisesunset.io/api/\n",
    "def make_sun_request(lat, lng, thedate: str):\n",
    "    url = f\"https://api.sunrisesunset.io/json?lat={lat}&lng={lng}&timezone=UTC&date={thedate}\"\n",
    "    r = requests.get(url)\n",
    "    response = r.json()\n",
    "    sunrise = response['results']['sunrise']\n",
    "    sunset = response['results']['sunset']\n",
    "\n",
    "    url2 = f\"https://api.sunrisesunset.io/json?lat={lat}&lng={lng}&timezone=UTC&date={datebefore}\"\n",
    "    r2 = requests.get(url2)\n",
    "    response2 = r2.json()\n",
    "    nightstart = response2['results']['sunset']\n",
    "\n",
    "    url3 = f\"https://api.sunrisesunset.io/json?lat={lat}&lng={lng}&timezone=UTC&date={dateafter}\"\n",
    "    r3 = requests.get(url3)\n",
    "    response3 = r3.json()\n",
    "    nightend = response3['results']['sunrise']\n",
    "\n",
    "    return [nightstart, sunrise, sunset, nightend]\n",
    "\n",
    "def convert_sun_to_datetime(nightstart, sunrise, sunset, nightend):\n",
    "    starttime = datetime.datetime.strptime(f\"{datebefore}, {nightstart}\", \"%Y-%m-%d, %I:%M:%S %p\")\n",
    "    risetime = datetime.datetime.strptime(f\"{thedate}, {sunrise}\", \"%Y-%m-%d, %I:%M:%S %p\")\n",
    "    settime = datetime.datetime.strptime(f\"{thedate}, {sunset}\", \"%Y-%m-%d, %I:%M:%S %p\")\n",
    "    endtime = datetime.datetime.strptime(f\"{dateafter}, {nightend}\", \"%Y-%m-%d, %I:%M:%S %p\")\n",
    "    return [starttime, risetime, settime, endtime]\n",
    "\n",
    "def calc_dies(risetime, settime):\n",
    "    dies = settime-risetime\n",
    "    hora = dies/12\n",
    "    hora_prima = risetime\n",
    "    hora_secunda = hora_prima+hora\n",
    "    hora_tertia = hora_prima+hora*2\n",
    "    hora_quarta = hora_prima+hora*3\n",
    "    hora_quinta = hora_prima+hora*4\n",
    "    hora_sexta = hora_prima+hora*5\n",
    "    hora_septima = hora_prima+hora*6\n",
    "    hora_octava = hora_prima+hora*7\n",
    "    hora_nona = hora_prima+hora*8\n",
    "    hora_decima = hora_prima+hora*9\n",
    "    hora_undecima = hora_prima+hora*10\n",
    "    hora_duodecima = hora_prima+hora*11\n",
    "    if hora_prima <= timenow < hora_secunda:\n",
    "        tempus = \"I\\nprima diei hora\"\n",
    "    elif hora_secunda <= timenow < hora_tertia:\n",
    "        tempus = \"II\\nseconda diei hora\"\n",
    "    elif hora_tertia <= timenow < hora_quarta:\n",
    "        tempus = \"III\\ntertia diei hora\"\n",
    "    elif hora_quarta <= timenow < hora_quinta:\n",
    "        tempus = \"IV\\nquarta diei hora\"\n",
    "    elif hora_quinta <= timenow < hora_sexta:\n",
    "        tempus = \"V\\nquinta diei hora\"\n",
    "    elif hora_sexta <= timenow < hora_septima:\n",
    "        tempus = \"VI\\nsexta diei hora\"\n",
    "    elif hora_septima <= timenow < hora_octava:\n",
    "        tempus = \"VII\\nseptima diei hora\"\n",
    "    elif hora_octava <= timenow < hora_nona:\n",
    "        tempus = \"VII\\noctava diei hora\"\n",
    "    elif hora_nona <= timenow < hora_decima:\n",
    "        tempus = \"IX\\nnona diei hora\"\n",
    "    elif hora_decima <= timenow < hora_undecima:\n",
    "        tempus = \"X\\ndecima diei hora\"\n",
    "    elif hora_undecima <= timenow < hora_duodecima:\n",
    "        tempus = \"XI\\nundecima diei hora\"\n",
    "    elif hora_duodecima <= timenow < settime:\n",
    "        tempus = \"XII\\nduodecima diei hora\"\n",
    "    else:\n",
    "        tempus = \"Eheu! Couldn't find the hour of the day!\"\n",
    "    return tempus\n",
    "\n",
    "def calc_nox_proxima(startime, risetime):\n",
    "    nox = risetime - startime\n",
    "    hora = nox/12\n",
    "    hora_prima = startime\n",
    "    hora_secunda = hora_prima+hora\n",
    "    hora_tertia = hora_prima+hora*2\n",
    "    hora_quarta = hora_prima+hora*3\n",
    "    hora_quinta = hora_prima+hora*4\n",
    "    hora_sexta = hora_prima+hora*5\n",
    "    hora_septima = hora_prima+hora*6\n",
    "    hora_octava = hora_prima+hora*7\n",
    "    hora_nona = hora_prima+hora*8\n",
    "    hora_decima = hora_prima+hora*9\n",
    "    hora_undecima = hora_prima+hora*10\n",
    "    hora_duodecima = hora_prima+hora*11\n",
    "    if hora_prima <= timenow < hora_quarta:\n",
    "        watch = \"VIGILIA PRIMA\\n\"\n",
    "        if hora_prima <= timenow < hora_secunda:\n",
    "            tempus = watch + \"I\\nprima noctis hora\"\n",
    "        elif hora_secunda <= timenow < hora_tertia:\n",
    "            tempus = watch + \"II\\nseconda noctis hora\"\n",
    "        elif hora_tertia <= timenow < hora_quarta:\n",
    "            tempus = watch + \"III\\ntertia noctis hora\"\n",
    "    elif hora_quarta <= timenow < hora_septima:\n",
    "        watch = \"VIGILIA SECUNDA\\n\"\n",
    "        if hora_quarta <= timenow < hora_quinta:\n",
    "            tempus = watch + \"IV\\nquarta noctis hora\"\n",
    "        elif hora_quinta <= timenow < hora_sexta:\n",
    "            tempus = watch + \"V\\nquinta noctis hora\"\n",
    "        elif hora_sexta <= timenow < hora_septima:\n",
    "            tempus = watch + \"VI\\nsexta noctis hora\"\n",
    "    elif hora_septima <= timenow < hora_decima:\n",
    "        watch = \"VIGILIA TERTIA\\n\"\n",
    "        if hora_septima <= timenow < hora_octava:\n",
    "            tempus = watch + \"VII\\nseptima noctis hora\"\n",
    "        elif hora_octava <= timenow < hora_nona:\n",
    "            tempus = watch + \"VII\\noctava noctis hora\"\n",
    "        elif hora_nona <= timenow < hora_decima:\n",
    "            tempus = watch + \"IX\\nnona noctis hora\"\n",
    "    elif hora_decima <= timenow < risetime:\n",
    "        watch = \"VIGILIA QUARTA\\n\"\n",
    "        if hora_decima <= timenow < hora_undecima:\n",
    "            tempus = watch + \"X\\ndecima noctis hora\"\n",
    "        elif hora_undecima <= timenow < hora_duodecima:\n",
    "            tempus = watch + \"XI\\nundecima noctis hora\"\n",
    "        elif hora_duodecima <= timenow < risetime:\n",
    "            tempus = watch + \"XII\\nduodecima noctis hora\"\n",
    "    else:\n",
    "        tempus = \"Eheu! Couldn't find the hour of the last night!\"\n",
    "    return tempus\n",
    "\n",
    "def calc_nox_superior(settime, endtime):\n",
    "    nox = endtime - settime\n",
    "    hora = nox/12\n",
    "    hora_prima = settime\n",
    "    hora_secunda = hora_prima+hora\n",
    "    hora_tertia = hora_prima+hora*2\n",
    "    hora_quarta = hora_prima+hora*3\n",
    "    hora_quinta = hora_prima+hora*4\n",
    "    hora_sexta = hora_prima+hora*5\n",
    "    hora_septima = hora_prima+hora*6\n",
    "    hora_octava = hora_prima+hora*7\n",
    "    hora_nona = hora_prima+hora*8\n",
    "    hora_decima = hora_prima+hora*9\n",
    "    hora_undecima = hora_prima+hora*10\n",
    "    hora_duodecima = hora_prima+hora*11\n",
    "    if hora_prima <= timenow < hora_quarta:\n",
    "        watch = \"VIGILIA PRIMA\\n\"\n",
    "        if hora_prima <= timenow < hora_secunda:\n",
    "            tempus = watch + \"I\\nprima noctis hora\"\n",
    "        elif hora_secunda <= timenow < hora_tertia:\n",
    "            tempus = watch + \"II\\nseconda noctis hora\"\n",
    "        elif hora_tertia <= timenow < hora_quarta:\n",
    "            tempus = watch + \"III\\ntertia noctis hora\"\n",
    "    elif hora_quarta <= timenow < hora_septima:\n",
    "        watch = \"VIGILIA SECUNDA\\n\"\n",
    "        if hora_quarta <= timenow < hora_quinta:\n",
    "            tempus = watch + \"IV\\nquarta noctis hora\"\n",
    "        elif hora_quinta <= timenow < hora_sexta:\n",
    "            tempus = watch + \"V\\nquinta noctis hora\"\n",
    "        elif hora_sexta <= timenow < hora_septima:\n",
    "            tempus = watch + \"VI\\nsexta noctis hora\"\n",
    "    elif hora_septima <= timenow < hora_decima:\n",
    "        watch = \"VIGILIA TERTIA\\n\"\n",
    "        if hora_septima <= timenow < hora_octava:\n",
    "            tempus = watch + \"VII\\nseptima noctis hora\"\n",
    "        elif hora_octava <= timenow < hora_nona:\n",
    "            tempus = watch + \"VII\\noctava noctis hora\"\n",
    "        elif hora_nona <= timenow < hora_decima:\n",
    "            tempus = watch + \"IX\\nnona noctis hora\"\n",
    "    elif hora_decima <= timenow < settime:\n",
    "        watch = \"VIGILIA QUARTA\\n\"\n",
    "        if hora_decima <= timenow < hora_undecima:\n",
    "            tempus = watch + \"X\\ndecima noctis hora\"\n",
    "        elif hora_undecima <= timenow < hora_duodecima:\n",
    "            tempus = watch + \"XI\\nundecima noctis hora\"\n",
    "        elif hora_duodecima <= timenow < settime:\n",
    "            tempus = watch + \"XII\\nduodecima noctis hora\"\n",
    "    else:\n",
    "        tempus = \"Eheu! Couldn't find the hour of the next night!\"\n",
    "    return tempus \n",
    "\n",
    "def get_tempus_from_sun(nightstart, sunrise, sunset, nightend, timenow):\n",
    "    datetimes = convert_sun_to_datetime(nightstart, sunrise, sunset, nightend)\n",
    "    starttime = datetimes[0]\n",
    "    risetime = datetimes[1]\n",
    "    settime = datetimes[2]\n",
    "    endtime = datetimes[3]\n",
    "    # quid proxima, quid superiore nocte egeris (Cic. Cat. 1.1.1)\n",
    "    if starttime <= timenow < risetime:\n",
    "        nox_proxima = calc_nox_proxima(starttime, risetime)\n",
    "        return nox_proxima\n",
    "    elif risetime <= timenow < settime:\n",
    "        dies = calc_dies(risetime, settime)\n",
    "        return dies\n",
    "    elif settime <= timenow < endtime:\n",
    "        nox_superior = calc_nox_superior(settime, endtime)\n",
    "        return nox_superior\n",
    "    else:\n",
    "        return \"Eheu! Couldn't get the time from the sun\"\n",
    "    \n",
    "def get_tempus_from_coord(lat, lng, thedate):\n",
    "    srss = make_sun_request(lat, lng, thedate)\n",
    "    nightstart = srss[0]\n",
    "    sunrise = srss[1]\n",
    "    sunset = srss[2]\n",
    "    nightend = srss[3]\n",
    "    tempus = get_tempus_from_sun(nightstart, sunrise, sunset, nightend, timenow)\n",
    "    return tempus\n",
    "    \n",
    "\n",
    "def get_tempus_from_place_id(place_id):\n",
    "    coords = make_coord_request(place_id)\n",
    "    lat = coords[0]\n",
    "    lng = coords[1]\n",
    "    tempus = get_tempus_from_coord(lat, lng, thedate)\n",
    "    return tempus"
   ]
  },
  {
   "cell_type": "code",
   "execution_count": 18,
   "id": "6bc15738",
   "metadata": {},
   "outputs": [
    {
     "name": "stdout",
     "output_type": "stream",
     "text": [
      "VIGILIA QUARTA\n",
      "XII\n",
      "duodecima noctis hora\n"
     ]
    }
   ],
   "source": [
    "lat = -41.2924\n",
    "lng = 174.7787\n",
    "tempus = get_tempus_from_coord(lat, lng, thedate)\n",
    "print(tempus)"
   ]
  },
  {
   "cell_type": "code",
   "execution_count": 19,
   "id": "390403c8",
   "metadata": {},
   "outputs": [
    {
     "name": "stdout",
     "output_type": "stream",
     "text": [
      "VIGILIA PRIMA\n",
      "I\n",
      "prima noctis hora\n"
     ]
    }
   ],
   "source": [
    "place_id = 22336\n",
    "tempus = get_tempus_from_place_id(place_id)\n",
    "print(tempus)"
   ]
  },
  {
   "cell_type": "code",
   "execution_count": 4,
   "id": "19b5eaa1",
   "metadata": {},
   "outputs": [
    {
     "data": {
      "text/plain": [
       "[33.18405, 44.70127]"
      ]
     },
     "execution_count": 4,
     "metadata": {},
     "output_type": "execute_result"
    }
   ],
   "source": [
    "make_coord_request(22336)"
   ]
  },
  {
   "cell_type": "code",
   "execution_count": 5,
   "id": "8528885d",
   "metadata": {},
   "outputs": [
    {
     "data": {
      "text/plain": [
       "['3:38:11 PM', '2:22:00 AM', '3:38:57 PM', '2:20:55 AM']"
      ]
     },
     "execution_count": 5,
     "metadata": {},
     "output_type": "execute_result"
    }
   ],
   "source": [
    "make_sun_request(33.18405, 44.70127, thedate)"
   ]
  },
  {
   "cell_type": "code",
   "execution_count": 6,
   "id": "d2324ea1",
   "metadata": {},
   "outputs": [],
   "source": [
    "splitdate = thedate.split(\"-\")\n",
    "yearstr = splitdate[0]\n",
    "year = int(yearstr)\n",
    "monthstr = splitdate[1]\n",
    "month = int(monthstr)\n",
    "daystr = splitdate[2]\n",
    "day = int(daystr)"
   ]
  },
  {
   "cell_type": "code",
   "execution_count": null,
   "id": "c3a2c70e",
   "metadata": {},
   "outputs": [],
   "source": [
    "menses = {\n",
    "    'Ianuarius': {\n",
    "        'name': 'Ianuarius',\n",
    "        'abbr.':'Ian.',\n",
    "        'nom.fem.pl.': 'Ianuariae',\n",
    "        'acc.fem.pl.': 'Ianuarias',\n",
    "        'abl.pl.': 'Ianuariis',\n",
    "        'days': 31, \n",
    "        'kalendae': 1, \n",
    "        'nonae': 5, \n",
    "        'idus': 13\n",
    "        },\n",
    "    'Februarius': {\n",
    "        'name': 'Februarius', \n",
    "        'abbr.':'Feb.',\n",
    "        'nom.fem.pl.': 'Februariae',\n",
    "        'acc.fem.pl.': 'Februarias',\n",
    "        'abl.pl.': 'Februariis',\n",
    "        'days': 28, \n",
    "        'kalendae': 1, \n",
    "        'nonae': 5, \n",
    "        'idus': 13\n",
    "        },\n",
    "    'Februarius (leap year)': {\n",
    "        'name': 'Februarius', \n",
    "        'abbr.':'Feb.',\n",
    "        'nom.fem.pl.': 'Februariae',\n",
    "        'acc.fem.pl.': 'Februarias',\n",
    "        'abl. pl.': 'Februariis',\n",
    "        'days': 29, \n",
    "        'kalendae': 1, \n",
    "        'nonae': 5, \n",
    "        'idus': 13\n",
    "        },\n",
    "    'Martius': {\n",
    "        'name': 'Martius', \n",
    "        'abbr.':'Mar.',\n",
    "        'nom.fem.pl.': 'Martiae',\n",
    "        'acc.fem.pl.': 'Martias',\n",
    "        'abbl.pl.': 'Martiis',\n",
    "        'days': 31, \n",
    "        'kalendae': 1, \n",
    "        'nonae': 7, \n",
    "        'idus': 15\n",
    "        },\n",
    "    'Aprilis': {\n",
    "        'name': 'Aprilis', \n",
    "        'abbr.':'Apr.',\n",
    "        'nom.fem.pl.': 'Apriles',\n",
    "        'acc.fem.pl.': 'Apriles',\n",
    "        'abbl.pl.': 'Aprilibus',\n",
    "        'days': 30, \n",
    "        'kalendae': 1, \n",
    "        'nonae': 5, \n",
    "        'idus': 13\n",
    "        },\n",
    "    'Maius': {\n",
    "        'name': 'Maius', \n",
    "        'abbr.':'Mai.',\n",
    "        'nom.fem.pl.': 'Maiae',\n",
    "        'acc.fem.pl.': 'Maias',\n",
    "        'abbl.pl.': 'Maiis',\n",
    "        'days': 31, \n",
    "        'kalendae': 1, \n",
    "        'nonae': 7, \n",
    "        'idus': 15\n",
    "        },\n",
    "    'Iunius': {\n",
    "        'name': 'Iunius',\n",
    "        'abbr.':'Iun.',\n",
    "        'nom.fem.pl.': 'Iuniae',\n",
    "        'acc.fem.pl.': 'Iunias', \n",
    "        'abbl.pl.': 'Iuniis',\n",
    "        'days': 30, \n",
    "        'kalendae': 1, \n",
    "        'nonae': 5, \n",
    "        'idus': 13\n",
    "        },\n",
    "    'Iulius': {\n",
    "        'name': 'Iulius', \n",
    "        'abbr.':'Iul.',\n",
    "        'nom.fem.pl.': 'Iuliae',\n",
    "        'acc.fem.pl.': 'Iulias',\n",
    "        'abbl.pl.': 'Iuliis',\n",
    "        'days': 31, \n",
    "        'kalendae': 1, \n",
    "        'nonae': 7, \n",
    "        'idus': 15\n",
    "        },\n",
    "    'Augustus': {\n",
    "        'name': 'Augustus',\n",
    "        'abbr.':'Aug.',\n",
    "        'nom.fem.pl.': 'Augustae',\n",
    "        'acc.fem.pl.': 'Augustas',\n",
    "        'abbl.pl.': 'Augustis', \n",
    "        'days': 31, \n",
    "        'kalendae': 1, \n",
    "        'nonae': 5, \n",
    "        'idus': 13\n",
    "        },\n",
    "    'September': {\n",
    "        'name': 'September',\n",
    "        'abbr.':'Sept.',\n",
    "        'nom.fem.pl.': 'Septembres',\n",
    "        'acc.fem.pl.': 'Septembres',\n",
    "        'abbl.pl.': 'Septembribus', \n",
    "        'days': 30, \n",
    "        'kalendae': 1, \n",
    "        'nonae': 5, \n",
    "        'idus': 13\n",
    "        },\n",
    "    'October': {\n",
    "        'name': 'October',\n",
    "        'abbr.':'Oct.',\n",
    "        'nom.fem.pl.': 'Octobres',\n",
    "        'acc.fem.pl.': 'Octobres',\n",
    "        'abbl.pl.': 'Octobribus', \n",
    "        'days': 31, \n",
    "        'kalendae': 1, \n",
    "        'nonae': 7, \n",
    "        'idus': 15\n",
    "        },\n",
    "    'November': {\n",
    "        'name': 'November',\n",
    "        'abbr.':'Nov.',\n",
    "        'nom.fem.pl.': 'Novembres',\n",
    "        'acc.fem.pl.': 'Novembres', \n",
    "        'abbl.pl.': 'Novembribus',\n",
    "        'days': 30, \n",
    "        'kalendae': 1, \n",
    "        'nonae': 5, \n",
    "        'idus': 13\n",
    "        },\n",
    "    'December': {\n",
    "        'name': 'December', \n",
    "        'abbr.':'Dec.',\n",
    "        'nom.fem.pl.': 'Decembres',\n",
    "        'acc.fem.pl.': 'Decembres',\n",
    "        'abbl.pl.': 'Decembribus',\n",
    "        'days': 31, \n",
    "        'kalendae': 1, \n",
    "        'nonae': 5, \n",
    "        'idus': 13}\n",
    "        }"
   ]
  },
  {
   "cell_type": "code",
   "execution_count": 8,
   "id": "cd0f0b46",
   "metadata": {},
   "outputs": [],
   "source": [
    "ordinals = {1:'primum', 2:'secundum', 3:'tertium', 4:'quartum', 5:'quintum', 6:'sextum', \n",
    "            7:'septimum', 8:'octavum', 9:'nonum', 10:'decimum', 11:'undecimum', 12:'duodecimum', \n",
    "            13:'tertium decimum', 14:'quartum decimum', 15:'quintum decimum', 16:'sextum decimum', \n",
    "            17:'septimum decimum', 18:'duodevicesimum', 19:'undevicesimum'\n",
    "}"
   ]
  },
  {
   "cell_type": "code",
   "execution_count": null,
   "id": "3ecc3a63",
   "metadata": {},
   "outputs": [],
   "source": [
    "def get_mensis_from_month(month):\n",
    "    if month == 1:\n",
    "        mensis = menses['Ianuarius']\n",
    "    if month == 2:\n",
    "        if year % 400 == 0:\n",
    "            mensis = menses['Februarius (leap year)']\n",
    "        elif year % 4 == 0 and year % 100 != 0:\n",
    "            mensis = menses['Februarius (leap year)']\n",
    "        else: \n",
    "            mensis = menses['Februarius']\n",
    "    if month == 3:\n",
    "        mensis = menses['Martius']\n",
    "    if month == 4:\n",
    "        mensis = menses['Aprilis']\n",
    "    if month == 5:\n",
    "        mensis = menses['Maius']\n",
    "    if month == 6:\n",
    "        mensis = menses['Iunius']\n",
    "    if month == 7:\n",
    "        mensis = menses ['Iulius']\n",
    "    if month == 8:\n",
    "        mensis = menses['Augustus']\n",
    "    if month == 9:\n",
    "        mensis = menses['September']\n",
    "    if month == 10:\n",
    "        mensis = menses['October']\n",
    "    if month == 11:\n",
    "        mensis = menses['November']\n",
    "    if month == 12:\n",
    "        mensis = menses['December']\n",
    "    return mensis"
   ]
  },
  {
   "cell_type": "code",
   "execution_count": 10,
   "id": "eae4bd4f",
   "metadata": {},
   "outputs": [
    {
     "data": {
      "text/plain": [
       "{'name': 'Aprilis',\n",
       " 'abbr.': 'Apr.',\n",
       " 'nom.fem.pl.': 'Apriles',\n",
       " 'acc.fem.pl': 'Apriles',\n",
       " 'days': 30,\n",
       " 'kalendae': 1,\n",
       " 'nonae': 5,\n",
       " 'idus': 13}"
      ]
     },
     "execution_count": 10,
     "metadata": {},
     "output_type": "execute_result"
    }
   ],
   "source": [
    "mensis = get_mensis_from_month(month)\n",
    "mensis"
   ]
  },
  {
   "cell_type": "code",
   "execution_count": 11,
   "id": "0fe97e53",
   "metadata": {},
   "outputs": [],
   "source": [
    "#Solution found here: https://stackoverflow.com/questions/28777219/basic-program-to-convert-integer-to-roman-numerals\n",
    "num_map = [(1000, 'M'), (900, 'CM'), (500, 'D'), (400, 'CD'), (100, 'C'), (90, 'XC'),\n",
    "           (50, 'L'), (40, 'XL'), (10, 'X'), (9, 'IX'), (5, 'V'), (4, 'IV'), (1, 'I')]\n",
    "\n",
    "\n",
    "def num2roman(num):\n",
    "\n",
    "    roman = ''\n",
    "\n",
    "    while num > 0:\n",
    "        for i, r in num_map:\n",
    "            while num >= i:\n",
    "                roman += r\n",
    "                num -= i\n",
    "\n",
    "    return roman"
   ]
  },
  {
   "cell_type": "code",
   "execution_count": 22,
   "id": "c76d99bc",
   "metadata": {},
   "outputs": [
    {
     "name": "stdout",
     "output_type": "stream",
     "text": [
      "a.d. VIII Kal. Apr.\n",
      "ante diem octavum Kalendas Apriles\n"
     ]
    }
   ],
   "source": [
    "if day == mensis['kalendae']:\n",
    "    datus = f\"Kal. {mensis['abbr.']}\\nKalendis {mensis['abbl.pl.']}\"\n",
    "elif day == mensis['nonae']:\n",
    "    datus = f\"Non. {mensis['abbr.']}\\nNonis {mensis['abbl.pl.']}\"\n",
    "elif day == mensis['idus']:\n",
    "    datus = f\"Eid. {mensis['abbr.']}\\nIdibus {mensis['abbl.pl.']}\"\n",
    "elif day == mensis['nonae']-1:\n",
    "    datus = f\"prid. Non. {mensis['abbr.']}\\npridie Nonas {mensis['acc.fem.pl']}\"\n",
    "elif day == mensis['idus']-1:\n",
    "    datus = f\"prid. Non. {mensis['abbr.']}\\npridie Idus {mensis['acc.fem.pl']}\"\n",
    "elif day == mensis['days']:\n",
    "    datus = f\"prid. Kal. {mensis['abbr.']}\\npridie Kalendas {mensis['acc.fem.pl']}\"\n",
    "elif mensis['kalendae'] < day < mensis['nonae']-1:\n",
    "    number = mensis['nonae']-day+1\n",
    "    numeral = num2roman(number)\n",
    "    ordinal = ordinals[number]\n",
    "    datus = f\"a.d. {numeral} Non. {mensis['abbr.']}\\nante diem {ordinal} Nonas {mensis['acc.fem.pl']}\"\n",
    "elif mensis['nonae'] < day < mensis['idus']:\n",
    "    number = mensis['idus']-day+1\n",
    "    numeral = num2roman(number)\n",
    "    ordinal = ordinals[number]\n",
    "    datus = f\"a.d. {numeral} Eid. {mensis['abbr.']}\\nante diem {ordinal} Idus {mensis['acc.fem.pl']}\"\n",
    "elif day > mensis['idus']:\n",
    "    number = mensis['days']-day+2\n",
    "    numeral = num2roman(number)\n",
    "    ordinal = ordinals[number]\n",
    "    datus = f\"a.d. {numeral} Kal. {mensis['abbr.']}\\nante diem {ordinal} Kalendas {mensis['acc.fem.pl']}\"\n",
    "\n",
    "print(datus)"
   ]
  }
 ],
 "metadata": {
  "kernelspec": {
   "display_name": "Python 3",
   "language": "python",
   "name": "python3"
  },
  "language_info": {
   "codemirror_mode": {
    "name": "ipython",
    "version": 3
   },
   "file_extension": ".py",
   "mimetype": "text/x-python",
   "name": "python",
   "nbconvert_exporter": "python",
   "pygments_lexer": "ipython3",
   "version": "3.12.1"
  }
 },
 "nbformat": 4,
 "nbformat_minor": 5
}
