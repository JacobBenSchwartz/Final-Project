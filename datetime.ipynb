{
 "cells": [
  {
   "cell_type": "code",
   "execution_count": 1,
   "id": "6ce7ab2f",
   "metadata": {},
   "outputs": [],
   "source": [
    "import datetime"
   ]
  },
  {
   "cell_type": "code",
   "execution_count": 2,
   "id": "b73248ba",
   "metadata": {},
   "outputs": [],
   "source": [
    "now = datetime.datetime.now()"
   ]
  },
  {
   "cell_type": "code",
   "execution_count": 3,
   "id": "28f91b0a",
   "metadata": {},
   "outputs": [
    {
     "name": "stdout",
     "output_type": "stream",
     "text": [
      "2025-04-14\n"
     ]
    }
   ],
   "source": [
    "print(now.date())"
   ]
  },
  {
   "cell_type": "code",
   "execution_count": 4,
   "id": "a35db46e",
   "metadata": {},
   "outputs": [
    {
     "data": {
      "text/plain": [
       "'April 14, 2025'"
      ]
     },
     "execution_count": 4,
     "metadata": {},
     "output_type": "execute_result"
    }
   ],
   "source": [
    "datetime.date.today().strftime('%B %d, %Y')"
   ]
  },
  {
   "cell_type": "code",
   "execution_count": 5,
   "id": "a308a241",
   "metadata": {},
   "outputs": [],
   "source": [
    "#Solution found here: https://stackoverflow.com/questions/28777219/basic-program-to-convert-integer-to-roman-numerals\n",
    "num_map = [(1000, 'M'), (900, 'CM'), (500, 'D'), (400, 'CD'), (100, 'C'), (90, 'XC'),\n",
    "           (50, 'L'), (40, 'XL'), (10, 'X'), (9, 'IX'), (5, 'V'), (4, 'IV'), (1, 'I')]\n",
    "\n",
    "\n",
    "def num2roman(num):\n",
    "\n",
    "    roman = ''\n",
    "\n",
    "    while num > 0:\n",
    "        for i, r in num_map:\n",
    "            while num >= i:\n",
    "                roman += r\n",
    "                num -= i\n",
    "\n",
    "    return roman"
   ]
  },
  {
   "cell_type": "code",
   "execution_count": 6,
   "id": "45e2e65a",
   "metadata": {},
   "outputs": [
    {
     "data": {
      "text/plain": [
       "'XIV'"
      ]
     },
     "execution_count": 6,
     "metadata": {},
     "output_type": "execute_result"
    }
   ],
   "source": [
    "num2roman(14)"
   ]
  },
  {
   "cell_type": "code",
   "execution_count": 7,
   "id": "95181dc3",
   "metadata": {},
   "outputs": [
    {
     "name": "stdout",
     "output_type": "stream",
     "text": [
      "2025-03-15\n"
     ]
    }
   ],
   "source": [
    "idus_martiae = datetime.date(year=2025, month=3, day=15)\n",
    "print(idus_martiae)"
   ]
  },
  {
   "cell_type": "code",
   "execution_count": 8,
   "id": "4c3181ab",
   "metadata": {},
   "outputs": [
    {
     "name": "stdout",
     "output_type": "stream",
     "text": [
      "22 years\n"
     ]
    }
   ],
   "source": [
    "# Experiment taken from here: https://stackoverflow.com/questions/71537225/convert-a-date-into-an-integer-in-python/71537314\n",
    "import datetime\n",
    "from datetime import date\n",
    "\n",
    "date_entry = input('Enter your birthdate in YYYY/MM/DD format: ')\n",
    "year, month, day = map(int, date_entry.split('/'))\n",
    "date1 = datetime.date(year, month, day)\n",
    "\n",
    "def calculateAge(birthDate):\n",
    "    today = date.today()\n",
    "    age = today.year - birthDate.year - \\\n",
    "        ((today.month, today.day) < (birthDate.month, birthDate.day))\n",
    "\n",
    "    return age\n",
    "\n",
    "# Driver code\n",
    "print(calculateAge(date1), \"years\")\n",
    "\n",
    "if calculateAge(date1) < 18:\n",
    "    print('You are under age')\n",
    "    exit()\n"
   ]
  },
  {
   "cell_type": "code",
   "execution_count": 9,
   "id": "fdd5c145",
   "metadata": {},
   "outputs": [
    {
     "name": "stdout",
     "output_type": "stream",
     "text": [
      "Requirement already satisfied: requests in /home/codespace/.local/lib/python3.12/site-packages (2.32.3)\n",
      "Requirement already satisfied: charset-normalizer<4,>=2 in /home/codespace/.local/lib/python3.12/site-packages (from requests) (3.4.1)\n",
      "Requirement already satisfied: idna<4,>=2.5 in /home/codespace/.local/lib/python3.12/site-packages (from requests) (3.10)\n",
      "Requirement already satisfied: urllib3<3,>=1.21.1 in /home/codespace/.local/lib/python3.12/site-packages (from requests) (2.3.0)\n",
      "Requirement already satisfied: certifi>=2017.4.17 in /home/codespace/.local/lib/python3.12/site-packages (from requests) (2025.1.31)\n",
      "Note: you may need to restart the kernel to use updated packages.\n"
     ]
    }
   ],
   "source": [
    "%pip install requests"
   ]
  },
  {
   "cell_type": "code",
   "execution_count": 9,
   "id": "7205bf69",
   "metadata": {},
   "outputs": [],
   "source": [
    "import os\n",
    "import requests"
   ]
  },
  {
   "cell_type": "code",
   "execution_count": null,
   "id": "bcb2a27b",
   "metadata": {},
   "outputs": [
    {
     "data": {
      "text/plain": [
       "{'results': {'date': '2025-04-14',\n",
       "  'sunrise': '6:32:32 AM',\n",
       "  'sunset': '7:50:18 PM',\n",
       "  'first_light': '4:52:28 AM',\n",
       "  'last_light': '9:30:23 PM',\n",
       "  'dawn': '6:03:39 AM',\n",
       "  'dusk': '8:19:11 PM',\n",
       "  'solar_noon': '1:11:25 PM',\n",
       "  'golden_hour': '7:12:57 PM',\n",
       "  'day_length': '13:17:45',\n",
       "  'timezone': 'Europe/Rome',\n",
       "  'utc_offset': 120},\n",
       " 'status': 'OK'}"
      ]
     },
     "execution_count": 12,
     "metadata": {},
     "output_type": "execute_result"
    }
   ],
   "source": [
    "# Powered by SunriseSunset.io\n",
    "lat = 41.893333\n",
    "lng = 12.482778\n",
    "response = requests.get(f\"https://api.sunrisesunset.io/json?lat={lat}&lng={lng}&date=2025-04-14\")\n",
    "response.json()"
   ]
  },
  {
   "cell_type": "code",
   "execution_count": 15,
   "id": "f9bdbd7b",
   "metadata": {},
   "outputs": [],
   "source": [
    "# Powered by SunriseSunset.io\n",
    "def make_sun_request(lat, lng: str):\n",
    "    url = f\"https://api.sunrisesunset.io/json?lat={lat}&lng={lng}&date=2025-04-14\"\n",
    "    response = requests.get(url)\n",
    "\n",
    "    return response.json()"
   ]
  },
  {
   "cell_type": "code",
   "execution_count": 17,
   "id": "d048c34a",
   "metadata": {},
   "outputs": [
    {
     "data": {
      "text/plain": [
       "{'results': {'date': '2025-04-14',\n",
       "  'sunrise': '6:32:32 AM',\n",
       "  'sunset': '7:50:18 PM',\n",
       "  'first_light': '4:52:28 AM',\n",
       "  'last_light': '9:30:23 PM',\n",
       "  'dawn': '6:03:39 AM',\n",
       "  'dusk': '8:19:11 PM',\n",
       "  'solar_noon': '1:11:25 PM',\n",
       "  'golden_hour': '7:12:57 PM',\n",
       "  'day_length': '13:17:45',\n",
       "  'timezone': 'Europe/Rome',\n",
       "  'utc_offset': 120},\n",
       " 'status': 'OK'}"
      ]
     },
     "execution_count": 17,
     "metadata": {},
     "output_type": "execute_result"
    }
   ],
   "source": [
    "make_sun_request(lat, lng)"
   ]
  }
 ],
 "metadata": {
  "kernelspec": {
   "display_name": "Python 3",
   "language": "python",
   "name": "python3"
  },
  "language_info": {
   "codemirror_mode": {
    "name": "ipython",
    "version": 3
   },
   "file_extension": ".py",
   "mimetype": "text/x-python",
   "name": "python",
   "nbconvert_exporter": "python",
   "pygments_lexer": "ipython3",
   "version": "3.12.1"
  }
 },
 "nbformat": 4,
 "nbformat_minor": 5
}
