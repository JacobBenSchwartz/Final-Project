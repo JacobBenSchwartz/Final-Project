{
 "cells": [
  {
   "cell_type": "markdown",
   "id": "97ed88d7",
   "metadata": {},
   "source": [
    "# Horologium\n",
    "\n",
    "### Creating a digital clock for Roman-style date-and-timekeeping, anywhere in the world. \n",
    "-------------------------------\n",
    "Jacob Schwartz\n",
    "\n",
    "Professor Hitchner\n",
    "\n",
    "Intro to Digital Humanities\n",
    "\n",
    "May 2, 2025\n"
   ]
  },
  {
   "cell_type": "markdown",
   "id": "485a5925",
   "metadata": {},
   "source": [
    "For this assignment, my objective was to create a digital clock for the Romans, who had a way of reckoning time based simply on the movement of the sun. "
   ]
  },
  {
   "cell_type": "markdown",
   "id": "45e6fd6a",
   "metadata": {},
   "source": [
    "## Roman Timekeeping\n",
    "Let's start with how the Romans told time over the course of a day. One of our best sources for this is Censorinus in *De Die Natali (Liber),* written around 238 CE.<sup>1</sup> According to him, *in horas XII diem divisum esse noctemque in totidem vulgo notum est* (\"that the day and night are [each] divided into twelve hours is known among all the people\").<sup>2</sup> The \"day\" (*naturaliter dies*) is reckoned from sunrise to sunset, while the \"night\" (*nox*) is sunset to sunrise.<sup>3</sup> As the day lengthens and shortens with the changing of the seasons, so too do the hours: we have twelve short hours daylight in the winter and twelve long hours in the summer. In addition, the length of these hours varies based on latitude - a soldier on Hadrian's wall in wintertime, for instance, would experience far shorter hours than his compatriot in Alexandria on the same day.<sup>4</sup>\n",
    "\n",
    "---------\n",
    "\n",
    "1: https://elfinspell.com/ClassicalTexts/Maude/Censorinus/DeDieNatale-Part2.html#topref107\n",
    "\n",
    "2: https://penelope.uchicago.edu/Thayer/L/Roman/Texts/Censorinus/text*.html\n",
    "\n",
    "3: https://penelope.uchicago.edu/Thayer/L/Roman/Texts/Censorinus/text*.html\n",
    "\n",
    "4: https://penelope.uchicago.edu/Thayer/E/Roman/Texts/secondary/SMIGRA*/Hora.html"
   ]
  },
  {
   "cell_type": "markdown",
   "id": "fd2914bb",
   "metadata": {},
   "source": [
    "## Calculating the Day\n",
    "To calculate 12 equal hours from sunrise to sunset, then, we will need two thing. The first SunriseSunset.io, an API which finds the time of sunrise and sunset for a given latitude and longitude. The second thing we will need is the datetime module, which will allow us to get the current date and time as well as calculate the difference between times (called a timedelta). "
   ]
  },
  {
   "cell_type": "code",
   "execution_count": 11,
   "id": "63dd7b5f",
   "metadata": {},
   "outputs": [
    {
     "name": "stdout",
     "output_type": "stream",
     "text": [
      "2025-03-15 12:00:00\n",
      "2025-03-15\n"
     ]
    }
   ],
   "source": [
    "# First, we'll import our modules.\n",
    "import datetime\n",
    "from datetime import timezone\n",
    "import requests\n",
    "\n",
    "# Next, we're going to define our time now. Later, we'll use the module to get the current time, but for now, let's say it's \n",
    "# 12:00 PM on March 15th (the Ides!). \n",
    "timenow = datetime.datetime(2025, 3, 15, 12, 0, 0, 000000)\n",
    "\n",
    "\n",
    "# Then we'll isolate the date and convert it into a string. We're going to need to use this a lot. \n",
    "thedate = timenow.date().strftime('%Y-%m-%d')\n",
    "\n",
    "# These look like this:\n",
    "print(timenow)\n",
    "print(thedate)"
   ]
  },
  {
   "cell_type": "code",
   "execution_count": 12,
   "id": "9933be2d",
   "metadata": {},
   "outputs": [
    {
     "data": {
      "text/plain": [
       "['06:15:50', '18:05:28']"
      ]
     },
     "execution_count": 12,
     "metadata": {},
     "output_type": "execute_result"
    }
   ],
   "source": [
    "# Now let's use our API to find the sunrise and sunset at a given location. For now, let's pick a spot in London\n",
    "# for ease of use with UTC. Let's use the City of London, the neighborhood built on the remains of the ancient city of Londinium.\n",
    "lat = '51.515556'\n",
    "lng = '-0.093056'\n",
    "\n",
    "# Powered by SunriseSunset.io: https://sunrisesunset.io/api/\n",
    "def make_sun_request(lat, lng):\n",
    "    url = f\"https://api.sunrisesunset.io/json?lat={lat}&lng={lng}&timezone=UTC&date={thedate}&time_format=24\"\n",
    "    r = requests.get(url)\n",
    "    response = r.json()\n",
    "    sunrise = response['results']['sunrise']\n",
    "    sunset = response['results']['sunset']\n",
    "\n",
    "    return [sunrise, sunset]\n",
    "\n",
    "make_sun_request(lat, lng)"
   ]
  },
  {
   "cell_type": "code",
   "execution_count": 13,
   "id": "4fb5fb9c",
   "metadata": {},
   "outputs": [
    {
     "data": {
      "text/plain": [
       "[datetime.datetime(2025, 3, 15, 6, 15, 50),\n",
       " datetime.datetime(2025, 3, 15, 18, 5, 28)]"
      ]
     },
     "execution_count": 13,
     "metadata": {},
     "output_type": "execute_result"
    }
   ],
   "source": [
    "# Since these are strings, we need to convert them to datetimes to do calculations with them. \n",
    "def convert_sun_to_datetime(sunrise, sunset):\n",
    "    risetime = datetime.datetime.strptime(f\"{thedate}, {sunrise}\", \"%Y-%m-%d, %H:%M:%S\")\n",
    "    settime = datetime.datetime.strptime(f\"{thedate}, {sunset}\", \"%Y-%m-%d, %H:%M:%S\")\n",
    "    return [risetime, settime]\n",
    "\n",
    "def get_datetimes_from_coord(lat, lng):\n",
    "    srss = make_sun_request(lat, lng)\n",
    "    sunrise = srss[0]\n",
    "    sunset = srss[1]\n",
    "    datetimes = convert_sun_to_datetime(sunrise, sunset)\n",
    "    return datetimes\n",
    "\n",
    "datetimes = get_datetimes_from_coord(lat, lng)\n",
    "datetimes"
   ]
  },
  {
   "cell_type": "code",
   "execution_count": 15,
   "id": "071c4083",
   "metadata": {},
   "outputs": [
    {
     "name": "stdout",
     "output_type": "stream",
     "text": [
      "\n",
      "VI\n",
      "sexta diei hora\n"
     ]
    }
   ],
   "source": [
    "# Now we can calculate our twelve hours of the day. \n",
    "def calc_hodie(risetime, settime):\n",
    "    dies = settime-risetime\n",
    "    hora = dies/12\n",
    "    hora_prima = risetime\n",
    "    hora_secunda = hora_prima+hora\n",
    "    hora_tertia = hora_prima+hora*2\n",
    "    hora_quarta = hora_prima+hora*3\n",
    "    hora_quinta = hora_prima+hora*4\n",
    "    hora_sexta = hora_prima+hora*5\n",
    "    hora_septima = hora_prima+hora*6\n",
    "    hora_octava = hora_prima+hora*7\n",
    "    hora_nona = hora_prima+hora*8\n",
    "    hora_decima = hora_prima+hora*9\n",
    "    hora_undecima = hora_prima+hora*10\n",
    "    hora_duodecima = hora_prima+hora*11\n",
    "    if hora_prima <= timenow < hora_secunda:\n",
    "        tempus = \"\\nI\\nprima diei hora\"\n",
    "    elif hora_secunda <= timenow < hora_tertia:\n",
    "        tempus = \"\\nII\\nseconda diei hora\"\n",
    "    elif hora_tertia <= timenow < hora_quarta:\n",
    "        tempus = \"\\nIII\\ntertia diei hora\"\n",
    "    elif hora_quarta <= timenow < hora_quinta:\n",
    "        tempus = \"\\nIV\\nquarta diei hora\"\n",
    "    elif hora_quinta <= timenow < hora_sexta:\n",
    "        tempus = \"\\nV\\nquinta diei hora\"\n",
    "    elif hora_sexta <= timenow < hora_septima:\n",
    "        tempus = \"\\nVI\\nsexta diei hora\"\n",
    "    elif hora_septima <= timenow < hora_octava:\n",
    "        tempus = \"\\nVII\\nseptima diei hora\"\n",
    "    elif hora_octava <= timenow < hora_nona:\n",
    "        tempus = \"\\nVIII\\noctava diei hora\"\n",
    "    elif hora_nona <= timenow < hora_decima:\n",
    "        tempus = \"\\nIX\\nnona diei hora\"\n",
    "    elif hora_decima <= timenow < hora_undecima:\n",
    "        tempus = \"\\nX\\ndecima diei hora\"\n",
    "    elif hora_undecima <= timenow < hora_duodecima:\n",
    "        tempus = \"\\nXI\\nundecima diei hora\"\n",
    "    elif hora_duodecima <= timenow < settime:\n",
    "        tempus = \"\\nXII\\nduodecima diei hora\"\n",
    "    else:\n",
    "        tempus = \"Eheu! Couldn't find the hour of the day!\"\n",
    "    return tempus\n",
    "\n",
    "risetime = datetimes[0]\n",
    "settime = datetimes[1]\n",
    "tempus = calc_hodie(risetime, settime)\n",
    "\n",
    "print(tempus)"
   ]
  },
  {
   "cell_type": "markdown",
   "id": "cdc26532",
   "metadata": {},
   "source": [
    "## Calculating the Night\n",
    "Before we get to calculating the time between sunset and sunrise, we need to talk about some other ways of reckoning time among the Romans. In particular, Censorinus mentions that *alii diem quadripertito, sed et noctem similiter dividebant; idque similitudo testatur militaris, ubi dicitur vigilia prima, item secunda et tertia et quarta* (\"others, with the day having been divided in four, even divided the night similarly; and this is witnessed by the similar [divisions] in military language, where \"first watch,\" is said, then \"second\" and \"third\" and \"fourth\").<sup>5</sup> The four watches, particularly those of the night, are an especially significant alternative, appearing frequently in the New Testament as well.<sup>6</sup> For this reason, we're going to include them as well, with each watch being three hours long.<sup>7</sup>\n",
    "\n",
    "In order to achieve this\n",
    "\n",
    "-----------\n",
    "\n",
    "5:https://penelope.uchicago.edu/Thayer/L/Roman/Texts/Censorinus/text*.html\n",
    "\n",
    "6: Matthew 14:25, Luke 12:38, Mark 13:35\n",
    "\n",
    "7:https://books.google.com/books?id=-tdRAAAAcAAJ&printsec=frontcover&source=gbs_ge_summary_r&cad=0#v=onepage&q&f=false page 307."
   ]
  },
  {
   "cell_type": "markdown",
   "id": "360c83b5",
   "metadata": {},
   "source": [
    "## Bibliography\n",
    "https://elfinspell.com/ClassicalTexts/Maude/Censorinus/DeDieNatale-Part2.html#topref107\n",
    "https://penelope.uchicago.edu/Thayer/L/Roman/Texts/Censorinus/text*.html\n",
    "https://penelope.uchicago.edu/Thayer/E/Roman/Texts/secondary/SMIGRA*/Hora.html"
   ]
  }
 ],
 "metadata": {
  "kernelspec": {
   "display_name": "Python 3",
   "language": "python",
   "name": "python3"
  },
  "language_info": {
   "codemirror_mode": {
    "name": "ipython",
    "version": 3
   },
   "file_extension": ".py",
   "mimetype": "text/x-python",
   "name": "python",
   "nbconvert_exporter": "python",
   "pygments_lexer": "ipython3",
   "version": "3.12.1"
  }
 },
 "nbformat": 4,
 "nbformat_minor": 5
}
