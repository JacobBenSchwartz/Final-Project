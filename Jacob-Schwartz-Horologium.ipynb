{
 "cells": [
  {
   "cell_type": "markdown",
   "id": "97ed88d7",
   "metadata": {},
   "source": [
    "# Horologium\n",
    "\n",
    "### Creating a digital clock for Roman-style date-and-timekeeping, anywhere in the world. \n",
    "-------------------------------\n",
    "Jacob Schwartz\n",
    "\n",
    "Professor Hitchner\n",
    "\n",
    "Intro to Digital Humanities\n",
    "\n",
    "May 2, 2025\n"
   ]
  },
  {
   "cell_type": "markdown",
   "id": "485a5925",
   "metadata": {},
   "source": [
    "For this assignment, my objective was to create a digital clock for the Romans, who had a way of reckoning time based simply on the movement of the sun. "
   ]
  },
  {
   "cell_type": "markdown",
   "id": "45e6fd6a",
   "metadata": {},
   "source": [
    "## Roman Timekeeping\n",
    "Let's start with how the Romans told time over the course of a day. One of our best sources for this is Censorinus in *De Die Natali (Liber),* written around 238 CE. "
   ]
  }
 ],
 "metadata": {
  "kernelspec": {
   "display_name": "Python 3",
   "language": "python",
   "name": "python3"
  },
  "language_info": {
   "name": "python",
   "version": "3.12.1"
  }
 },
 "nbformat": 4,
 "nbformat_minor": 5
}
